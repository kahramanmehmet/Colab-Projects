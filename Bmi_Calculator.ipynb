{
  "nbformat": 4,
  "nbformat_minor": 0,
  "metadata": {
    "colab": {
      "provenance": [],
      "authorship_tag": "ABX9TyOl0vmQ99B33vXqaA/eNBlv",
      "include_colab_link": true
    },
    "kernelspec": {
      "name": "python3",
      "display_name": "Python 3"
    },
    "language_info": {
      "name": "python"
    }
  },
  "cells": [
    {
      "cell_type": "markdown",
      "metadata": {
        "id": "view-in-github",
        "colab_type": "text"
      },
      "source": [
        "<a href=\"https://colab.research.google.com/github/kahramanmehmet/Colab-Projects/blob/main/Bmi_Calculator.ipynb\" target=\"_parent\"><img src=\"https://colab.research.google.com/assets/colab-badge.svg\" alt=\"Open In Colab\"/></a>"
      ]
    },
    {
      "cell_type": "code",
      "execution_count": null,
      "metadata": {
        "id": "lV_Q0FHcmJP-"
      },
      "outputs": [],
      "source": [
        "weight = 67\n",
        "# weight = int(input())\n",
        "\n",
        "height = 1.72\n",
        "#height = int(input())\n",
        "\n",
        "# define a function called bmi_calculator\n",
        "def bmi_calculator():\n",
        "    # return weight divided by height squared\n",
        "\treturn weight/(height**2)\n",
        "\n",
        "# declare a variable called \"result\" and\n",
        "# assign it the result of using the function\n",
        "result = bmi_calculator()\n",
        "\n",
        "# print the \"result\" variable\n",
        "print(result)"
      ]
    }
  ]
}