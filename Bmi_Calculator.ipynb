{
  "nbformat": 4,
  "nbformat_minor": 0,
  "metadata": {
    "colab": {
      "provenance": [],
      "authorship_tag": "ABX9TyODBtN0RTEjWR7OQvKpcZo+",
      "include_colab_link": true
    },
    "kernelspec": {
      "name": "python3",
      "display_name": "Python 3"
    },
    "language_info": {
      "name": "python"
    }
  },
  "cells": [
    {
      "cell_type": "markdown",
      "metadata": {
        "id": "view-in-github",
        "colab_type": "text"
      },
      "source": [
        "<a href=\"https://colab.research.google.com/github/kahramanmehmet/Colab-Projects/blob/main/Bmi_Calculator.ipynb\" target=\"_parent\"><img src=\"https://colab.research.google.com/assets/colab-badge.svg\" alt=\"Open In Colab\"/></a>"
      ]
    },
    {
      "cell_type": "code",
      "execution_count": null,
      "metadata": {
        "id": "lV_Q0FHcmJP-"
      },
      "outputs": [],
      "source": [
        "weight = 67\n",
        "# weight = int(input())\n",
        "\n",
        "height = 1.72\n",
        "#height = int(input())\n",
        "\n",
        "def bmi_calculator():\n",
        "  return weight/(height**2)\n",
        "\n",
        "result = bmi_calculator()\n",
        "print(result)"
      ]
    }
  ]
}