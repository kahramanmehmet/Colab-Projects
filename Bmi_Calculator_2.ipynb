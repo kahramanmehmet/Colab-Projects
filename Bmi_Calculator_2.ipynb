{
  "nbformat": 4,
  "nbformat_minor": 0,
  "metadata": {
    "colab": {
      "provenance": [],
      "authorship_tag": "ABX9TyN8pEHn/UgpTSpmG8NnbKgg",
      "include_colab_link": true
    },
    "kernelspec": {
      "name": "python3",
      "display_name": "Python 3"
    },
    "language_info": {
      "name": "python"
    }
  },
  "cells": [
    {
      "cell_type": "markdown",
      "metadata": {
        "id": "view-in-github",
        "colab_type": "text"
      },
      "source": [
        "<a href=\"https://colab.research.google.com/github/kahramanmehmet/Colab-Projects/blob/main/Bmi_Calculator_2.ipynb\" target=\"_parent\"><img src=\"https://colab.research.google.com/assets/colab-badge.svg\" alt=\"Open In Colab\"/></a>"
      ]
    },
    {
      "cell_type": "code",
      "source": [
        "def bmi_calculator(weight, height):\n",
        "  bmi = weight / (height * height)\n",
        "  if bmi < 18.5:\n",
        "    return \"Underweight\"\n",
        "  elif bmi >= 18.5 and bmi < 25:\n",
        "    return \"Normal weight\"\n",
        "  elif bmi >= 25 and bmi < 30:\n",
        "    return \"Overweight\"\n",
        "  else:\n",
        "    return \"Obese\"\n",
        "\n",
        "weight = float(input(\"Enter your weight in kilograms: \"))\n",
        "height = float(input(\"Enter your height in meters: \"))\n",
        "\n",
        "bmi = bmi_calculator(weight, height)\n",
        "\n",
        "print(\"Your BMI is:\", bmi)"
      ],
      "metadata": {
        "id": "UVoH5Wi3C3l2"
      },
      "execution_count": null,
      "outputs": []
    }
  ]
}