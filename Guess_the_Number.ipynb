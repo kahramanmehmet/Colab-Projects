{
  "nbformat": 4,
  "nbformat_minor": 0,
  "metadata": {
    "colab": {
      "provenance": [],
      "authorship_tag": "ABX9TyOQPJw5McOvzHYmdK9J82DK",
      "include_colab_link": true
    },
    "kernelspec": {
      "name": "python3",
      "display_name": "Python 3"
    },
    "language_info": {
      "name": "python"
    }
  },
  "cells": [
    {
      "cell_type": "markdown",
      "metadata": {
        "id": "view-in-github",
        "colab_type": "text"
      },
      "source": [
        "<a href=\"https://colab.research.google.com/github/kahramanmehmet/Colab-Projects/blob/main/Guess_the_Number.ipynb\" target=\"_parent\"><img src=\"https://colab.research.google.com/assets/colab-badge.svg\" alt=\"Open In Colab\"/></a>"
      ]
    },
    {
      "cell_type": "code",
      "execution_count": null,
      "metadata": {
        "id": "bzK4MOwvneN5"
      },
      "outputs": [],
      "source": [
        "# Number guessing mini game\n",
        "\n",
        "import random\n",
        "\n",
        "n = random.randrange(1, 10)\n",
        "guess = int(input(\"Enter any number among 1 to ten!: \"))\n",
        "\n",
        "while n != guess:\n",
        "    if guess < n:\n",
        "        print(\"Too low\")\n",
        "        guess = int(input(\"Enter number again: \"))\n",
        "    elif guess > n:\n",
        "        print(\"Too high\")\n",
        "        guess = int(input(\"Enter number again: \"))\n",
        "    else:\n",
        "        break\n",
        "print(\"You guessed it right!\")"
      ]
    }
  ]
}