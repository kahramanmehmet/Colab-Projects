{
  "nbformat": 4,
  "nbformat_minor": 0,
  "metadata": {
    "colab": {
      "provenance": [],
      "authorship_tag": "ABX9TyOpHN/lKLLPTnI8hJ0tBBoj",
      "include_colab_link": true
    },
    "kernelspec": {
      "name": "python3",
      "display_name": "Python 3"
    },
    "language_info": {
      "name": "python"
    }
  },
  "cells": [
    {
      "cell_type": "markdown",
      "metadata": {
        "id": "view-in-github",
        "colab_type": "text"
      },
      "source": [
        "<a href=\"https://colab.research.google.com/github/kahramanmehmet/Colab-Projects/blob/main/Password_Generator_2.ipynb\" target=\"_parent\"><img src=\"https://colab.research.google.com/assets/colab-badge.svg\" alt=\"Open In Colab\"/></a>"
      ]
    },
    {
      "cell_type": "code",
      "execution_count": null,
      "metadata": {
        "id": "OK3_ihE0komZ"
      },
      "outputs": [],
      "source": [
        "import random\n",
        "import string\n",
        "\n",
        "def password_generator(length):\n",
        "    def decorator(func):\n",
        "        def wrapper(*args, **kwargs):\n",
        "            password_characters = string.ascii_letters + string.digits + string.punctuation\n",
        "            password = ''.join(random.choice(password_characters) for _ in range(length))\n",
        "            return func(password, *args, **kwargs)\n",
        "        return wrapper\n",
        "    return decorator\n",
        "\n",
        "@password_generator(length=int(input()))\n",
        "def generate_password(password):\n",
        "    print(\"Generated password:\", password)\n",
        "\n",
        "generate_password()"
      ]
    }
  ]
}