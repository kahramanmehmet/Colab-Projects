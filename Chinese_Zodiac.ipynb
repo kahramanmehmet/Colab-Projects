{
  "nbformat": 4,
  "nbformat_minor": 0,
  "metadata": {
    "colab": {
      "provenance": [],
      "authorship_tag": "ABX9TyMD7tZr4QVYRo/prhrI8f4G",
      "include_colab_link": true
    },
    "kernelspec": {
      "name": "python3",
      "display_name": "Python 3"
    },
    "language_info": {
      "name": "python"
    }
  },
  "cells": [
    {
      "cell_type": "markdown",
      "metadata": {
        "id": "view-in-github",
        "colab_type": "text"
      },
      "source": [
        "<a href=\"https://colab.research.google.com/github/kahramanmehmet/Colab-Projects/blob/main/Chinese_Zodiac.ipynb\" target=\"_parent\"><img src=\"https://colab.research.google.com/assets/colab-badge.svg\" alt=\"Open In Colab\"/></a>"
      ]
    },
    {
      "cell_type": "code",
      "execution_count": 1,
      "metadata": {
        "id": "6ldFccUQ0lTa",
        "colab": {
          "base_uri": "https://localhost:8080/"
        },
        "outputId": "6b30f107-39e7-4b44-a392-291151527997"
      },
      "outputs": [
        {
          "output_type": "stream",
          "name": "stdout",
          "text": [
            "yılı giriniz: 2024\n",
            "Yılın başlangıç tarihi: (2024, 1, 22)\n",
            "Yılın bitiş tarihi: (2024, 2, 9)\n",
            "Yılın hayvanı: maymun\n",
            "Yılın elementi: metal\n"
          ]
        }
      ],
      "source": [
        "import datetime\n",
        "\n",
        "animals = [\"fare\", \"öküz\", \"kaplan\", \"tavşan\", \"ejderha\", \"yılan\", \"at\", \"koyun\", \"maymun\", \"horoz\", \"köpek\", \"domuz\"]\n",
        "elements = [\"su\", \"odun\", \"ateş\", \"toprak\", \"metal\"]\n",
        "\n",
        "start_dates =\n",
        "[\n",
        "    (2023, 1, 22),\n",
        "    (2024, 1, 22),\n",
        "    (2025, 1, 22),\n",
        "    (2026, 1, 22),\n",
        "    (2027, 1, 22),\n",
        "]\n",
        "\n",
        "end_dates =\n",
        "[\n",
        "    (2023, 2, 9),\n",
        "    (2024, 2, 9),\n",
        "    (2025, 2, 9),\n",
        "    (2026, 2, 9),\n",
        "    (2027, 2, 9),\n",
        "]\n",
        "\n",
        "year = int(input(\"yılı giriniz: \"))\n",
        "\n",
        "start_date = start_dates[year - 2023]\n",
        "end_date = end_dates[year - 2023]\n",
        "\n",
        "print(\"Yılın başlangıç tarihi:\", start_date)\n",
        "print(\"Yılın bitiş tarihi:\", end_date)\n",
        "\n",
        "animal_sign = animals[year % 12]\n",
        "element = elements[year % 5]\n",
        "\n",
        "print(\"Yılın hayvanı:\", animal_sign)\n",
        "print(\"Yılın elementi:\", element)"
      ]
    }
  ]
}