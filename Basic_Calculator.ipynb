{
  "nbformat": 4,
  "nbformat_minor": 0,
  "metadata": {
    "colab": {
      "provenance": [],
      "authorship_tag": "ABX9TyO724QDjf1brBUU0JZGYcsb",
      "include_colab_link": true
    },
    "kernelspec": {
      "name": "python3",
      "display_name": "Python 3"
    },
    "language_info": {
      "name": "python"
    }
  },
  "cells": [
    {
      "cell_type": "markdown",
      "metadata": {
        "id": "view-in-github",
        "colab_type": "text"
      },
      "source": [
        "<a href=\"https://colab.research.google.com/github/kahramanmehmet/Colab-Projects/blob/main/Basic_Calculator.ipynb\" target=\"_parent\"><img src=\"https://colab.research.google.com/assets/colab-badge.svg\" alt=\"Open In Colab\"/></a>"
      ]
    },
    {
      "cell_type": "code",
      "execution_count": null,
      "metadata": {
        "id": "MUI48Qnxk9LN"
      },
      "outputs": [],
      "source": [
        "# Basic Calculator\n",
        "\n",
        "def calc(x, y, operation):\n",
        "\n",
        "  if operation not in \"+-*/\":\n",
        "    return \"Lütfen şu işlemlerden birini seçiniz: +-*/\"\n",
        "\n",
        "  if operation == \"+\":\n",
        "    return (str(x)+\" + \"+str(y)+\" = \"+str(x+y))\n",
        "  if operation == \"-\":\n",
        "    return (str(x)+\" - \"+str(y)+\" = \"+str(x-y))\n",
        "  if operation == \"*\":\n",
        "    return (str(x)+\" * \"+str(y)+\" = \"+str(x*y))\n",
        "  if operation == \"/\":\n",
        "    return (str(x)+\" / \"+str(y)+\" = \"+str(x/y))\n",
        "while True:\n",
        "  try:\n",
        "    x = int(input(\"İlk sayıyı giriniz: \"))\n",
        "    y = int(input(\"İkinci sayıyı giriniz: \"))\n",
        "    operation = input(\"İşlem seçiniz: +-*/\")\n",
        "    print(calc(x, y, operation))\n",
        "  except:\n",
        "    print(\"Lütfen numerik bir değer girin.\")"
      ]
    }
  ]
}