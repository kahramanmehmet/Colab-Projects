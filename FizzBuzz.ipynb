{
  "nbformat": 4,
  "nbformat_minor": 0,
  "metadata": {
    "colab": {
      "provenance": [],
      "authorship_tag": "ABX9TyN3GahEs2HbFmpAhugj9cHY",
      "include_colab_link": true
    },
    "kernelspec": {
      "name": "python3",
      "display_name": "Python 3"
    },
    "language_info": {
      "name": "python"
    }
  },
  "cells": [
    {
      "cell_type": "markdown",
      "metadata": {
        "id": "view-in-github",
        "colab_type": "text"
      },
      "source": [
        "<a href=\"https://colab.research.google.com/github/kahramanmehmet/Colab-Projects/blob/main/FizzBuzz.ipynb\" target=\"_parent\"><img src=\"https://colab.research.google.com/assets/colab-badge.svg\" alt=\"Open In Colab\"/></a>"
      ]
    },
    {
      "cell_type": "code",
      "execution_count": null,
      "metadata": {
        "id": "f_sfu3yUV5SE"
      },
      "outputs": [],
      "source": [
        "import math\n",
        "import os\n",
        "import random\n",
        "import re\n",
        "import sys\n",
        "\n",
        "def fizzBuzz(n):\n",
        "    for i in range(1, n+1):\n",
        "        if i % 3 == 0 and i % 5 !=0:\n",
        "            print('Fizz')\n",
        "        elif i % 5 == 0 and i % 3 !=0:\n",
        "            print('Buzz')\n",
        "        elif i % 5 == 0 and i % 3 ==0:\n",
        "            print('FizzBuzz')\n",
        "        else:\n",
        "            print(i)\n",
        "if __name__ == '__main__':\n",
        "    n = int(input().strip())\n",
        "fizzBuzz(n)"
      ]
    }
  ]
}