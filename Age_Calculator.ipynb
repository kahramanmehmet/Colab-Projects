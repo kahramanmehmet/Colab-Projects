{
  "nbformat": 4,
  "nbformat_minor": 0,
  "metadata": {
    "colab": {
      "provenance": [],
      "authorship_tag": "ABX9TyOLpI2Vw8wBKz+Ftc28V6e3",
      "include_colab_link": true
    },
    "kernelspec": {
      "name": "python3",
      "display_name": "Python 3"
    },
    "language_info": {
      "name": "python"
    }
  },
  "cells": [
    {
      "cell_type": "markdown",
      "metadata": {
        "id": "view-in-github",
        "colab_type": "text"
      },
      "source": [
        "<a href=\"https://colab.research.google.com/github/kahramanmehmet/Colab-Projects/blob/main/Age_Calculator.ipynb\" target=\"_parent\"><img src=\"https://colab.research.google.com/assets/colab-badge.svg\" alt=\"Open In Colab\"/></a>"
      ]
    },
    {
      "cell_type": "code",
      "execution_count": null,
      "metadata": {
        "id": "XXrzTwfYd6QG"
      },
      "outputs": [],
      "source": [
        "import datetime\n",
        "\n",
        "theYear = datetime.date.today().year\n",
        "month = datetime.date.today().month\n",
        "day = datetime.date.today().day\n",
        "\n",
        "birthDay = datetime.date.fromisoformat(input(\"Enter your birthday (YYYY-MM-DD): \"))\n",
        "# birthDay = datetime.date.fromisoformat(input())\n",
        "\n",
        "age = theYear - birthDay.year + month - birthDay.month + day - birthDay.day\n",
        "\n",
        "print(f\"You are {age} years old\")"
      ]
    }
  ]
}