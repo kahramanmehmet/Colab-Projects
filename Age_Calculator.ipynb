{
  "nbformat": 4,
  "nbformat_minor": 0,
  "metadata": {
    "colab": {
      "provenance": [],
      "authorship_tag": "ABX9TyN5t+OmIGN+vtT/+vrYyuF9",
      "include_colab_link": true
    },
    "kernelspec": {
      "name": "python3",
      "display_name": "Python 3"
    },
    "language_info": {
      "name": "python"
    }
  },
  "cells": [
    {
      "cell_type": "markdown",
      "metadata": {
        "id": "view-in-github",
        "colab_type": "text"
      },
      "source": [
        "<a href=\"https://colab.research.google.com/github/kahramanmehmet/Colab-Projects/blob/main/Age_Calculator.ipynb\" target=\"_parent\"><img src=\"https://colab.research.google.com/assets/colab-badge.svg\" alt=\"Open In Colab\"/></a>"
      ]
    },
    {
      "cell_type": "code",
      "source": [
        "import datetime as date\n",
        "\n",
        "def calculateAge(birthDate):\n",
        "    today = date.datetime.today()\n",
        "    age = today.year - birthDate.year -((today.month, today.day) < (birthDate.month, birthDate.day))\n",
        "    return age\n",
        "\n",
        "birthDate = input(\"Please enter your birthdate on the following format (dd/mm/yyyy)\\n>>> \")\n",
        "birthDate = date.datetime.strptime(birthDate, \"%d/%m/%Y\").date()\n",
        "print(\"Your birthday is on \"+ birthDate.strftime(\"%d\") + \" of \" + birthDate.strftime(\"%B, %Y\"))\n",
        "\n",
        "#lets print the age now\n",
        "print(\"You are\", calculateAge(birthDate), \"years old\")"
      ],
      "metadata": {
        "id": "DvXSubXoD0Za"
      },
      "execution_count": null,
      "outputs": []
    }
  ]
}