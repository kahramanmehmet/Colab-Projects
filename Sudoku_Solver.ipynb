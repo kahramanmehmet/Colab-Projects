{
  "nbformat": 4,
  "nbformat_minor": 0,
  "metadata": {
    "colab": {
      "provenance": [],
      "authorship_tag": "ABX9TyNAv5tjWbtdeT9as9u8jdwv",
      "include_colab_link": true
    },
    "kernelspec": {
      "name": "python3",
      "display_name": "Python 3"
    },
    "language_info": {
      "name": "python"
    }
  },
  "cells": [
    {
      "cell_type": "markdown",
      "metadata": {
        "id": "view-in-github",
        "colab_type": "text"
      },
      "source": [
        "<a href=\"https://colab.research.google.com/github/kahramanmehmet/Colab-Projects/blob/main/Sudoku_Solver.ipynb\" target=\"_parent\"><img src=\"https://colab.research.google.com/assets/colab-badge.svg\" alt=\"Open In Colab\"/></a>"
      ]
    },
    {
      "cell_type": "code",
      "execution_count": null,
      "metadata": {
        "id": "EAahu7tuHfsm"
      },
      "outputs": [],
      "source": [
        "def find_empty(board):\n",
        "  \"\"\"Finds an empty square in the sudoku board\"\"\"\n",
        "  for i in range(len(board)):\n",
        "    for j in range(len(board[0])):\n",
        "      if board[i][j] == 0:\n",
        "        return (i, j)\n",
        "  return None\n",
        "\n",
        "def valid(board, num, row, col):\n",
        "  \"\"\"Checks if a number can be placed in a specific square\"\"\"\n",
        "  # Check row\n",
        "  for i in range(len(board)):\n",
        "    if board[row][i] == num and col != i:\n",
        "      return False\n",
        "  # Check column\n",
        "  for i in range(len(board)):\n",
        "    if board[i][col] == num and row != i:\n",
        "      return False\n",
        "  # Check subgrid\n",
        "  start_row = row - row % 3\n",
        "  start_col = col - col % 3\n",
        "  for i in range(3):\n",
        "    for j in range(3):\n",
        "      if board[start_row + i][start_col + j] == num and (row, col) != (start_row + i, start_col + j):\n",
        "        return False\n",
        "  return True\n",
        "\n",
        "def solve(board):\n",
        "  \"\"\"Solves the sudoku board using backtracking\"\"\"\n",
        "  empty_square = find_empty(board)\n",
        "  # If there are no empty squares, the sudoku is solved\n",
        "  if not empty_square:\n",
        "    return True\n",
        "  row, col = empty_square\n",
        "  for i in range(1, 10):\n",
        "    # Check if the number is valid in the current square\n",
        "    if valid(board, i, row, col):\n",
        "      board[row][col] = i\n",
        "      # Recursively solve the sudoku with the number placed\n",
        "      if solve(board):\n",
        "        return True\n",
        "      # If placing the number doesn't lead to a solution, backtrack and try a different number\n",
        "      board[row][col] = 0\n",
        "  return False\n",
        "\n",
        "def print_board(board):\n",
        "  \"\"\"Prints the sudoku board\"\"\"\n",
        "  for i in range(len(board)):\n",
        "    for j in range(len(board[0])):\n",
        "      print(board[i][j], end=\" \")\n",
        "    print()\n",
        "\n",
        "# Example sudoku board\n",
        "board = [\n",
        "  [0, 3, 5, 7, 0, 0, 0, 0, 0],\n",
        "  [0, 0, 0, 0, 0, 0, 0, 8, 0],\n",
        "  [7, 8, 9, 2, 0, 0, 0, 0, 6],\n",
        "  [0, 0, 1, 0, 0, 9, 0, 0, 0],\n",
        "  [5, 9, 0, 0, 0, 6, 0, 0, 4],\n",
        "  [0, 0, 0, 0, 0, 0, 0, 0, 9],\n",
        "  [0, 6, 0, 0, 7, 0, 5, 0, 0],\n",
        "  [0, 0, 8, 0, 0, 0, 0, 0, 3],\n",
        "  [3, 4, 7, 6, 0, 8, 1, 0, 2],\n",
        "]\n",
        "\n",
        "# Solve the sudoku\n",
        "if solve(board):\n",
        "  print(\"Sudoku Solved!\")\n",
        "  print_board(board)\n",
        "else:\n",
        "  print(\"No solution found\")\n"
      ]
    }
  ]
}