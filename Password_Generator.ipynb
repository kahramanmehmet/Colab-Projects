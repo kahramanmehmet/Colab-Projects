{
  "nbformat": 4,
  "nbformat_minor": 0,
  "metadata": {
    "colab": {
      "provenance": [],
      "toc_visible": true,
      "authorship_tag": "ABX9TyOgRWtn1fjXBwf/HfCXZP2p",
      "include_colab_link": true
    },
    "kernelspec": {
      "name": "python3",
      "display_name": "Python 3"
    },
    "language_info": {
      "name": "python"
    }
  },
  "cells": [
    {
      "cell_type": "markdown",
      "metadata": {
        "id": "view-in-github",
        "colab_type": "text"
      },
      "source": [
        "<a href=\"https://colab.research.google.com/github/kahramanmehmet/Colab-Projects/blob/main/Password_Generator.ipynb\" target=\"_parent\"><img src=\"https://colab.research.google.com/assets/colab-badge.svg\" alt=\"Open In Colab\"/></a>"
      ]
    },
    {
      "cell_type": "code",
      "execution_count": null,
      "metadata": {
        "id": "A8iqSmAajMBP"
      },
      "outputs": [],
      "source": [
        "# Password Generator is not a 'generator function!'\n",
        "import random\n",
        "import string\n",
        "\n",
        "def password_generator():\n",
        "  print('Hi, welcome to Password Generator!')\n",
        "\n",
        "  length = int(input(\"\\nPlease, enter length of password: \"))\n",
        "  lower = string.ascii_lowercase\n",
        "  upper = string.ascii_uppercase\n",
        "  digits = string.digits\n",
        "  symbols = string.punctuation\n",
        "\n",
        "  all = lower + upper + digits + symbols\n",
        "  #temp = random.sample(all, length)\n",
        "  password = ''.join(random.sample(all, length))\n",
        "  print(password)\n",
        "  return f\"Length of your password is: {len(password)}\"\n",
        "password_generator()"
      ]
    }
  ]
}