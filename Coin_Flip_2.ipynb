{
  "nbformat": 4,
  "nbformat_minor": 0,
  "metadata": {
    "colab": {
      "provenance": [],
      "authorship_tag": "ABX9TyM+nj6pAZ6+CClUv+VAMzoP",
      "include_colab_link": true
    },
    "kernelspec": {
      "name": "python3",
      "display_name": "Python 3"
    },
    "language_info": {
      "name": "python"
    }
  },
  "cells": [
    {
      "cell_type": "markdown",
      "metadata": {
        "id": "view-in-github",
        "colab_type": "text"
      },
      "source": [
        "<a href=\"https://colab.research.google.com/github/kahramanmehmet/Colab-Projects/blob/main/Coin_Flip_2.ipynb\" target=\"_parent\"><img src=\"https://colab.research.google.com/assets/colab-badge.svg\" alt=\"Open In Colab\"/></a>"
      ]
    },
    {
      "cell_type": "code",
      "execution_count": null,
      "metadata": {
        "id": "uxmKX7Ti9NWI"
      },
      "outputs": [],
      "source": [
        "import random\n",
        "\n",
        "# Madeni parayı n kez at ve kaç yazı geldiğini hesapla\n",
        "def madeni_para_deneyi(n):\n",
        "    yazilar = 0\n",
        "    for _ in range(n):\n",
        "        sonuc = random.choice(['Yazı', 'Tura'])\n",
        "        if sonuc == 'Yazı':\n",
        "            yazilar += 1\n",
        "    return yazilar\n",
        "\n",
        "# Deneyi 1000 kez tekrarla ve her seferinde kaç yazı geldiğini kaydet\n",
        "def deneyi_tekrarla():\n",
        "    deney_sonuclari = []\n",
        "    for _ in range(1000):\n",
        "        yazilar = madeni_para_deneyi(1000)\n",
        "        deney_sonuclari.append(yazilar)\n",
        "    return deney_sonuclari\n",
        "\n",
        "# Ana işlem\n",
        "if __name__ == \"__main__\":\n",
        "    deney_sonuclari = deneyi_tekrarla()\n",
        "\n",
        "    # İlk 10 deneme sonucunu yazdır\n",
        "    for i in range(10):\n",
        "        print(f\"Deneme {i+1}: {deney_sonuclari[i]} yazı geldi.\")\n",
        "\n",
        "    # Deney sonuçlarının istatistiksel analizini yapabilirsiniz\n",
        "    ortalama = sum(deney_sonuclari) / len(deney_sonuclari)\n",
        "    print(f\"Ortalama Yazı Sayısı: {ortalama}\")\n"
      ]
    }
  ]
}